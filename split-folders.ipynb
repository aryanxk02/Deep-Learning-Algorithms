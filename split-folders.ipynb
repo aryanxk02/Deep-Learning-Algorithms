{
 "cells": [
  {
   "cell_type": "code",
   "execution_count": 3,
   "id": "a54d10d9",
   "metadata": {},
   "outputs": [],
   "source": [
    "import splitfolders"
   ]
  },
  {
   "cell_type": "code",
   "execution_count": 4,
   "id": "178afb16",
   "metadata": {},
   "outputs": [],
   "source": [
    "input_folder = 'cell_images/'\n",
    "\n",
    "splitfolders.ratio(input_folder, \n",
    "                   output='cell_images_segregated', \n",
    "                   seed=42, \n",
    "                   ratio=(.7, .2, .1), \n",
    "                   group_prefix=None)"
   ]
  }
 ],
 "metadata": {
  "kernelspec": {
   "display_name": "Python [conda env:DL] *",
   "language": "python",
   "name": "conda-env-DL-py"
  },
  "language_info": {
   "codemirror_mode": {
    "name": "ipython",
    "version": 3
   },
   "file_extension": ".py",
   "mimetype": "text/x-python",
   "name": "python",
   "nbconvert_exporter": "python",
   "pygments_lexer": "ipython3",
   "version": "3.10.8"
  }
 },
 "nbformat": 4,
 "nbformat_minor": 5
}
