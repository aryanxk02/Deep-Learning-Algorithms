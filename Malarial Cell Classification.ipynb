{
 "cells": [
  {
   "cell_type": "code",
   "execution_count": 1,
   "id": "e26727d7",
   "metadata": {},
   "outputs": [],
   "source": [
    "import numpy as np\n",
    "np.random.seed(1000)\n",
    "\n",
    "import cv2\n",
    "# specifying paths\n",
    "import os\n",
    "\n",
    "# image resize, convert img to numpy and vice versaa\n",
    "from PIL import Image\n",
    "\n",
    "# from tensorflow.keras\n",
    "from tensorflow.keras.layers import Conv2D, MaxPooling2D, BatchNormalization, Dropout, Flatten, Dense, Input\n",
    "# os.environment['KERAS_BACKEND'] = 'tensorflow'\n",
    "\n",
    "from tensorflow.keras.models import Model"
   ]
  },
  {
   "cell_type": "code",
   "execution_count": 2,
   "id": "3804a5a9",
   "metadata": {},
   "outputs": [],
   "source": [
    "image_directory = 'cell_images/'\n",
    "SIZE = 64\n",
    "\n",
    "# images & their labels {0: Parasitized, 1: Uninfected}\n",
    "dataset = []\n",
    "label = []\n",
    "\n",
    "# specify location of parasitized images\n",
    "parasitized_images = os.listdir(image_directory + 'Parasitized/')\n",
    "count_parasitized = 0\n",
    "# iterate over those images\n",
    "for i, image_name in enumerate(parasitized_images):\n",
    "    if (image_name.split('.')[1] == 'png'and count_parasitized != 1000):\n",
    "        # read\n",
    "        image = cv2.imread(image_directory + 'Parasitized/' + image_name)\n",
    "        # image\n",
    "        image = Image.fromarray(image, 'RGB')\n",
    "        # resize\n",
    "        image = image.resize((SIZE,SIZE))\n",
    "        # add the individual image array to list (dataset, label)\n",
    "        dataset.append(np.array(image))\n",
    "        label.append(0)\n",
    "        count_parasitized += 1\n",
    "\n",
    "# specify location of uninfected images\n",
    "uninfected_images = os.listdir(image_directory + 'Uninfected/')\n",
    "count_uninfected = 0\n",
    "# iterate over those images\n",
    "for i, image_name in enumerate(uninfected_images):\n",
    "    if (image_name.split('.')[1] == 'png' and count_uninfected != 1000):\n",
    "        # read\n",
    "        image = cv2.imread(image_directory + 'Uninfected/' + image_name)\n",
    "        # image\n",
    "        image = Image.fromarray(image, 'RGB')\n",
    "        # resize\n",
    "        image = image.resize((SIZE,SIZE))\n",
    "        # add the individual image array to list (dataset, label)\n",
    "        dataset.append(np.array(image))\n",
    "        label.append(1)\n",
    "        count_uninfected += 1"
   ]
  },
  {
   "cell_type": "code",
   "execution_count": 3,
   "id": "4dc44c17",
   "metadata": {},
   "outputs": [
    {
     "data": {
      "text/plain": [
       "2000"
      ]
     },
     "execution_count": 3,
     "metadata": {},
     "output_type": "execute_result"
    }
   ],
   "source": [
    "len(dataset)"
   ]
  },
  {
   "cell_type": "code",
   "execution_count": 4,
   "id": "0ac93ff5",
   "metadata": {},
   "outputs": [
    {
     "name": "stderr",
     "output_type": "stream",
     "text": [
      "2023-02-04 16:13:38.028137: I tensorflow/core/common_runtime/pluggable_device/pluggable_device_factory.cc:305] Could not identify NUMA node of platform GPU ID 0, defaulting to 0. Your kernel may not have been built with NUMA support.\n",
      "2023-02-04 16:13:38.028274: I tensorflow/core/common_runtime/pluggable_device/pluggable_device_factory.cc:271] Created TensorFlow device (/job:localhost/replica:0/task:0/device:GPU:0 with 0 MB memory) -> physical PluggableDevice (device: 0, name: METAL, pci bus id: <undefined>)\n"
     ]
    },
    {
     "name": "stdout",
     "output_type": "stream",
     "text": [
      "Metal device set to: Apple M1\n"
     ]
    }
   ],
   "source": [
    "INPUT_SHAPE = (SIZE, SIZE, 3)\n",
    "\n",
    "inp = Input(shape=(INPUT_SHAPE))\n",
    "\n",
    "conv1 = Conv2D(32, kernel_size=(3,3), activation='relu', padding='same')(inp)\n",
    "pool1 = MaxPooling2D(pool_size=(2,2))(conv1)\n",
    "norm1 = BatchNormalization(axis=-1)(pool1)\n",
    "drop1 = Dropout(rate=0.2)(norm1)\n",
    "\n",
    "conv2 = Conv2D(32, kernel_size=(3,3), activation='relu', padding='same')(drop1)\n",
    "pool2 = MaxPooling2D(pool_size=(2,2))(conv1)\n",
    "norm2 = BatchNormalization(axis=-1)(pool1)\n",
    "drop2 = Dropout(rate=0.2)(norm2)\n",
    "\n",
    "# Flatten the matrix to get it ready for Dense Layers\n",
    "flat = Flatten()(drop2)\n",
    "\n",
    "hidden1 = Dense(256, activation='relu')(flat)\n",
    "norm3 = BatchNormalization(axis=-1)(hidden1)\n",
    "drop3 =Dropout(rate=0.2)(norm3)\n",
    "\n",
    "hidden2 = Dense(128, activation='relu')(flat)\n",
    "norm4 = BatchNormalization(axis=-1)(hidden2)\n",
    "drop4 =Dropout(rate=0.2)(norm4)\n",
    "\n",
    "out = Dense(2, activation='sigmoid')(drop4)"
   ]
  },
  {
   "cell_type": "code",
   "execution_count": 5,
   "id": "ab45b457",
   "metadata": {},
   "outputs": [],
   "source": [
    "model = Model(inputs=inp, outputs=out)"
   ]
  },
  {
   "cell_type": "code",
   "execution_count": 6,
   "id": "f15c9b30",
   "metadata": {},
   "outputs": [],
   "source": [
    "model.compile(optimizer='Adam', loss='categorical_cr ossentropy', metrics=['accuracy'])"
   ]
  },
  {
   "cell_type": "code",
   "execution_count": 7,
   "id": "a00aee79",
   "metadata": {},
   "outputs": [
    {
     "name": "stdout",
     "output_type": "stream",
     "text": [
      "Model: \"model\"\n",
      "_________________________________________________________________\n",
      " Layer (type)                Output Shape              Param #   \n",
      "=================================================================\n",
      " input_1 (InputLayer)        [(None, 64, 64, 3)]       0         \n",
      "                                                                 \n",
      " conv2d (Conv2D)             (None, 64, 64, 32)        896       \n",
      "                                                                 \n",
      " max_pooling2d (MaxPooling2D  (None, 32, 32, 32)       0         \n",
      " )                                                               \n",
      "                                                                 \n",
      " batch_normalization_1 (Batc  (None, 32, 32, 32)       128       \n",
      " hNormalization)                                                 \n",
      "                                                                 \n",
      " dropout_1 (Dropout)         (None, 32, 32, 32)        0         \n",
      "                                                                 \n",
      " flatten (Flatten)           (None, 32768)             0         \n",
      "                                                                 \n",
      " dense_1 (Dense)             (None, 128)               4194432   \n",
      "                                                                 \n",
      " batch_normalization_3 (Batc  (None, 128)              512       \n",
      " hNormalization)                                                 \n",
      "                                                                 \n",
      " dropout_3 (Dropout)         (None, 128)               0         \n",
      "                                                                 \n",
      " dense_2 (Dense)             (None, 2)                 258       \n",
      "                                                                 \n",
      "=================================================================\n",
      "Total params: 4,196,226\n",
      "Trainable params: 4,195,906\n",
      "Non-trainable params: 320\n",
      "_________________________________________________________________\n",
      "None\n"
     ]
    }
   ],
   "source": [
    "print(model.summary())"
   ]
  },
  {
   "cell_type": "code",
   "execution_count": 8,
   "id": "bc3398f9",
   "metadata": {},
   "outputs": [],
   "source": [
    "from sklearn.model_selection import train_test_split\n",
    "from keras.utils import to_categorical\n",
    "\n",
    "X_train, X_test, y_train, y_test = train_test_split(dataset, to_categorical(label), test_size=0.2, random_state=0)"
   ]
  },
  {
   "cell_type": "code",
   "execution_count": 9,
   "id": "6e32c030",
   "metadata": {
    "scrolled": false
   },
   "outputs": [
    {
     "name": "stdout",
     "output_type": "stream",
     "text": [
      "Epoch 1/25\n"
     ]
    },
    {
     "name": "stderr",
     "output_type": "stream",
     "text": [
      "2023-02-04 16:13:38.813984: W tensorflow/core/platform/profile_utils/cpu_utils.cc:128] Failed to get CPU frequency: 0 Hz\n",
      "2023-02-04 16:13:39.164167: I tensorflow/core/grappler/optimizers/custom_graph_optimizer_registry.cc:113] Plugin optimizer for device_type GPU is enabled.\n"
     ]
    },
    {
     "name": "stdout",
     "output_type": "stream",
     "text": [
      "20/20 [==============================] - 2s 55ms/step - loss: 0.8959 - accuracy: 0.6430 - val_loss: 2.3041 - val_accuracy: 0.6750\n",
      "Epoch 2/25\n",
      " 1/20 [>.............................] - ETA: 0s - loss: 0.3358 - accuracy: 0.8906"
     ]
    },
    {
     "name": "stderr",
     "output_type": "stream",
     "text": [
      "2023-02-04 16:13:40.471119: I tensorflow/core/grappler/optimizers/custom_graph_optimizer_registry.cc:113] Plugin optimizer for device_type GPU is enabled.\n"
     ]
    },
    {
     "name": "stdout",
     "output_type": "stream",
     "text": [
      "20/20 [==============================] - 1s 58ms/step - loss: 0.3739 - accuracy: 0.8453 - val_loss: 1.8432 - val_accuracy: 0.6219\n",
      "Epoch 3/25\n",
      "20/20 [==============================] - 1s 57ms/step - loss: 0.2448 - accuracy: 0.9172 - val_loss: 1.1256 - val_accuracy: 0.6750\n",
      "Epoch 4/25\n",
      "20/20 [==============================] - 1s 48ms/step - loss: 0.1305 - accuracy: 0.9781 - val_loss: 0.8810 - val_accuracy: 0.6656\n",
      "Epoch 5/25\n",
      "20/20 [==============================] - 1s 42ms/step - loss: 0.0705 - accuracy: 0.9953 - val_loss: 1.0980 - val_accuracy: 0.6719\n",
      "Epoch 6/25\n",
      "20/20 [==============================] - 1s 42ms/step - loss: 0.0349 - accuracy: 0.9992 - val_loss: 1.2633 - val_accuracy: 0.6062\n",
      "Epoch 7/25\n",
      "20/20 [==============================] - 1s 44ms/step - loss: 0.0213 - accuracy: 1.0000 - val_loss: 1.4507 - val_accuracy: 0.5719\n",
      "Epoch 8/25\n",
      "20/20 [==============================] - 1s 40ms/step - loss: 0.0169 - accuracy: 1.0000 - val_loss: 0.9047 - val_accuracy: 0.7094\n",
      "Epoch 9/25\n",
      "20/20 [==============================] - 1s 41ms/step - loss: 0.0092 - accuracy: 1.0000 - val_loss: 0.7446 - val_accuracy: 0.7156\n",
      "Epoch 10/25\n",
      "20/20 [==============================] - 1s 44ms/step - loss: 0.0043 - accuracy: 1.0000 - val_loss: 0.7897 - val_accuracy: 0.7063\n",
      "Epoch 11/25\n",
      "20/20 [==============================] - 1s 46ms/step - loss: 0.0024 - accuracy: 1.0000 - val_loss: 0.7601 - val_accuracy: 0.7063\n",
      "Epoch 12/25\n",
      "20/20 [==============================] - 1s 58ms/step - loss: 0.0018 - accuracy: 1.0000 - val_loss: 0.7603 - val_accuracy: 0.7063\n",
      "Epoch 13/25\n",
      "20/20 [==============================] - 1s 47ms/step - loss: 0.0015 - accuracy: 1.0000 - val_loss: 0.7738 - val_accuracy: 0.7031\n",
      "Epoch 14/25\n",
      "20/20 [==============================] - 1s 42ms/step - loss: 0.0013 - accuracy: 1.0000 - val_loss: 0.7864 - val_accuracy: 0.7125\n",
      "Epoch 15/25\n",
      "20/20 [==============================] - 1s 40ms/step - loss: 0.0012 - accuracy: 1.0000 - val_loss: 0.7980 - val_accuracy: 0.7125\n",
      "Epoch 16/25\n",
      "20/20 [==============================] - 1s 40ms/step - loss: 0.0010 - accuracy: 1.0000 - val_loss: 0.8101 - val_accuracy: 0.7125\n",
      "Epoch 17/25\n",
      "20/20 [==============================] - 1s 42ms/step - loss: 9.2128e-04 - accuracy: 1.0000 - val_loss: 0.8217 - val_accuracy: 0.7125\n",
      "Epoch 18/25\n",
      "20/20 [==============================] - 1s 41ms/step - loss: 8.3049e-04 - accuracy: 1.0000 - val_loss: 0.8336 - val_accuracy: 0.7125\n",
      "Epoch 19/25\n",
      "20/20 [==============================] - 1s 41ms/step - loss: 7.5454e-04 - accuracy: 1.0000 - val_loss: 0.8456 - val_accuracy: 0.7063\n",
      "Epoch 20/25\n",
      "20/20 [==============================] - 1s 42ms/step - loss: 6.8948e-04 - accuracy: 1.0000 - val_loss: 0.8574 - val_accuracy: 0.7063\n",
      "Epoch 21/25\n",
      "20/20 [==============================] - 1s 41ms/step - loss: 6.3309e-04 - accuracy: 1.0000 - val_loss: 0.8745 - val_accuracy: 0.7031\n",
      "Epoch 22/25\n",
      "20/20 [==============================] - 1s 42ms/step - loss: 5.8365e-04 - accuracy: 1.0000 - val_loss: 0.8854 - val_accuracy: 0.7031\n",
      "Epoch 23/25\n",
      "20/20 [==============================] - 1s 41ms/step - loss: 5.4033e-04 - accuracy: 1.0000 - val_loss: 0.8960 - val_accuracy: 0.7000\n",
      "Epoch 24/25\n",
      "20/20 [==============================] - 1s 43ms/step - loss: 5.0204e-04 - accuracy: 1.0000 - val_loss: 0.9067 - val_accuracy: 0.6938\n",
      "Epoch 25/25\n",
      "20/20 [==============================] - 1s 41ms/step - loss: 4.6784e-04 - accuracy: 1.0000 - val_loss: 0.9174 - val_accuracy: 0.6906\n"
     ]
    }
   ],
   "source": [
    "history = model.fit(\n",
    "    np.array(X_train), \n",
    "    np.array(y_train), \n",
    "    verbose=1, \n",
    "    batch_size=64, \n",
    "    epochs=25, \n",
    "    validation_split=0.2, \n",
    "    shuffle=False)"
   ]
  },
  {
   "cell_type": "code",
   "execution_count": 10,
   "id": "3617c56c",
   "metadata": {},
   "outputs": [
    {
     "name": "stdout",
     "output_type": "stream",
     "text": [
      "11/13 [========================>.....] - ETA: 0s - loss: 0.9856 - accuracy: 0.6989"
     ]
    },
    {
     "name": "stderr",
     "output_type": "stream",
     "text": [
      "2023-02-04 16:14:01.829598: I tensorflow/core/grappler/optimizers/custom_graph_optimizer_registry.cc:113] Plugin optimizer for device_type GPU is enabled.\n"
     ]
    },
    {
     "name": "stdout",
     "output_type": "stream",
     "text": [
      "13/13 [==============================] - 0s 14ms/step - loss: 1.0115 - accuracy: 0.6875\n",
      "Test_Accuracy: 68.75%\n"
     ]
    }
   ],
   "source": [
    "print(\"Test_Accuracy: {:.2f}%\".format(model.evaluate(np.array(X_test), np.array(y_test))[1]*100))"
   ]
  },
  {
   "cell_type": "code",
   "execution_count": 11,
   "id": "e02facba",
   "metadata": {},
   "outputs": [
    {
     "data": {
      "image/png": "[encoded data removed]",
      "text/plain": [
       "<Figure size 1200x400 with 2 Axes>"
      ]
     },
     "metadata": {},
     "output_type": "display_data"
    }
   ],
   "source": [
    "import matplotlib.pyplot as plt\n",
    "\n",
    "f, (ax1, ax2) = plt.subplots(1, 2, figsize=(12, 4))\n",
    "t = f.suptitle('CNN Performance', fontsize=12)\n",
    "f.subplots_adjust(top=0.85, wspace=0.3)\n",
    "\n",
    "max_epoch = len(history.history['accuracy'])+1\n",
    "epoch_list = list(range(1,max_epoch))\n",
    "ax1.plot(epoch_list, history.history['accuracy'], label='Train Accuracy')\n",
    "ax1.plot(epoch_list, history.history['val_accuracy'], label='Validation Accuracy')\n",
    "ax1.set_xticks(np.arange(1, max_epoch, 5))\n",
    "ax1.set_ylabel('Accuracy Value')\n",
    "ax1.set_xlabel('Epoch')\n",
    "ax1.set_title('Accuracy')\n",
    "l1 = ax1.legend(loc=\"best\")\n",
    "\n",
    "ax2.plot(epoch_list, history.history['loss'], label='Train Loss')\n",
    "ax2.plot(epoch_list, history.history['val_loss'], label='Validation Loss')\n",
    "ax2.set_xticks(np.arange(1, max_epoch, 5))\n",
    "ax2.set_ylabel('Loss Value')\n",
    "ax2.set_xlabel('Epoch')\n",
    "ax2.set_title('Loss')\n",
    "l2 = ax2.legend(loc=\"best\")"
   ]
  },
  {
   "cell_type": "code",
   "execution_count": null,
   "id": "6b0e1a7d",
   "metadata": {},
   "outputs": [],
   "source": []
  }
 ],
 "metadata": {
  "kernelspec": {
   "display_name": "Python [conda env:DL] *",
   "language": "python",
   "name": "conda-env-DL-py"
  },
  "language_info": {
   "codemirror_mode": {
    "name": "ipython",
    "version": 3
   },
   "file_extension": ".py",
   "mimetype": "text/x-python",
   "name": "python",
   "nbconvert_exporter": "python",
   "pygments_lexer": "ipython3",
   "version": "3.10.8"
  }
 },
 "nbformat": 4,
 "nbformat_minor": 5
}
